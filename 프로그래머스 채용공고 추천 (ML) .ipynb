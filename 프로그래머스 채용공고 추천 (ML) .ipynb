{
 "cells": [
  {
   "cell_type": "markdown",
   "id": "6bee52a7-a7ae-476c-b61c-a26b5de58122",
   "metadata": {
    "tags": []
   },
   "source": [
    "## 프로그래머스 채용공고 추천 (ML) \n",
    "- https://school.programmers.co.kr/skill_check_assignments/1"
   ]
  },
  {
   "cell_type": "markdown",
   "id": "d70fa403-d67b-4ce1-b4db-7c1aff037b50",
   "metadata": {
    "tags": []
   },
   "source": [
    "### 1. 파일 압축해제"
   ]
  },
  {
   "cell_type": "code",
   "execution_count": null,
   "id": "6b3c48d8-6a68-4605-8a73-af0127854786",
   "metadata": {},
   "outputs": [],
   "source": [
    "import zipfile\n",
    "import os\n",
    "\n",
    "def unzip_file(zip_path):\n",
    "    # 현재 작업 디렉토리\n",
    "    current_directory = os.getcwd()\n",
    "\n",
    "    # zip 파일명에서 확장자를 제외한 부분을 폴더명으로 사용\n",
    "    folder_name = os.path.splitext(os.path.basename(zip_path))[0]\n",
    "\n",
    "    # 압축을 해제할 폴더 경로\n",
    "    extract_path = os.path.join(current_directory, folder_name)\n",
    "\n",
    "    # 폴더 생성 및 압축 해제\n",
    "    with zipfile.ZipFile(zip_path, 'r') as zip_ref:\n",
    "        zip_ref.extractall(extract_path)\n",
    "\n",
    "# 예제 사용\n",
    "zip_file_path = 'train_job.zip'  # 압축 해제할 zip 파일 경로\n",
    "\n",
    "# 압축 해제 수행\n",
    "unzip_file(zip_file_path)\n"
   ]
  },
  {
   "cell_type": "markdown",
   "id": "15f79370-4fc4-4f4f-be3e-92343385f424",
   "metadata": {
    "tags": []
   },
   "source": [
    "### 2. 데이터 불러오기"
   ]
  },
  {
   "cell_type": "code",
   "execution_count": 142,
   "id": "7c64c3f3-c648-434a-aee1-ef69e3615fc6",
   "metadata": {
    "tags": []
   },
   "outputs": [],
   "source": [
    "# 데이터 불러오기\n",
    "import pandas as pd\n",
    "from sklearn.preprocessing import LabelEncoder\n",
    "job_companies = pd.read_csv(\"train_job/job_companies.csv\")\n",
    "job_companies = job_companies.dropna()\n",
    "job_tags = pd.read_csv(\"train_job/job_tags.csv\")\n",
    "\n",
    "tags = pd.read_csv(\"train_job/tags.csv\")\n",
    "train = pd.read_csv(\"train_job/train.csv\")\n",
    "user_tags = pd.read_csv(\"train_job/user_tags.csv\")\n",
    "user_tags = user_tags.drop_duplicates()\n",
    "test_job = pd.read_csv(\"test_job.csv\")\n"
   ]
  },
  {
   "cell_type": "markdown",
   "id": "2580bdcf-338b-4dfe-b63a-47aa0774c4f7",
   "metadata": {},
   "source": [
    "### 3. 전처리, join, 인코딩"
   ]
  },
  {
   "cell_type": "code",
   "execution_count": 144,
   "id": "46a1e8d7-a2a6-45b0-9598-9acf041cb4af",
   "metadata": {
    "tags": []
   },
   "outputs": [],
   "source": [
    "# tag들만 따로 인코딩\n",
    "le = LabelEncoder()\n",
    "tags['tagID'] = le.fit_transform(tags['tagID'])\n",
    "user_tags['tagID'] = le.transform(user_tags['tagID'])\n",
    "job_tags['tagID'] = le.transform(job_tags['tagID'])"
   ]
  },
  {
   "cell_type": "code",
   "execution_count": 145,
   "id": "b8459f30-f966-44e2-921f-6f1b0b24e6ef",
   "metadata": {
    "tags": []
   },
   "outputs": [],
   "source": [
    "# 테이블 join\n",
    "job_tags = pd.merge(job_tags, tags, on='tagID', how='inner')\n",
    "user_tags = pd.merge(user_tags, tags, on='tagID', how='inner')\n",
    "job_tags.rename(columns = {'tagID' : 'job_tagID'}, inplace = True)\n",
    "job_tags = job_tags.groupby('jobID')['job_tagID'].apply(list).reset_index()\n",
    "user_tags.rename(columns = {'tagID' : 'user_tagID'}, inplace = True)\n",
    "user_tags = user_tags.groupby('userID')['user_tagID'].apply(list).reset_index()"
   ]
  },
  {
   "cell_type": "code",
   "execution_count": 146,
   "id": "47f85c99-40cd-40bf-9558-13a747c454e4",
   "metadata": {
    "tags": []
   },
   "outputs": [],
   "source": [
    "# 테이블 merge\n",
    "train_df1 = pd.merge(train, job_tags, on='jobID', how='inner')\n",
    "train_df2 = pd.merge(train_df1, user_tags, on='userID', how='inner')\n",
    "train_df3 = pd.merge(train_df2, job_companies, on='jobID', how='left')\n",
    "\n",
    "test_df1 = pd.merge(test_job, job_tags, on='jobID', how='inner')\n",
    "test_df2 = pd.merge(test_df1, user_tags, on='userID', how='inner')\n",
    "test_df3 = pd.merge(test_df2, job_companies, on='jobID', how='left')"
   ]
  },
  {
   "cell_type": "code",
   "execution_count": null,
   "id": "d5dec247-d225-4c41-be21-002d5309e003",
   "metadata": {},
   "outputs": [],
   "source": []
  },
  {
   "cell_type": "code",
   "execution_count": 153,
   "id": "da91ebd9-2325-4d28-bacc-cb7744a034ce",
   "metadata": {
    "tags": []
   },
   "outputs": [],
   "source": [
    "# label_encode_column 함수 \n",
    "def label_encode_column(column):\n",
    "    le = LabelEncoder()\n",
    "    return le.fit_transform(column)\n",
    "\n",
    "# 인코딩 컬럼 선정\n",
    "columns_to_encode = ['companyID','companySize']  \n",
    "\n",
    "# 선택한 칼럼만 인코딩\n",
    "train_df3[columns_to_encode] = train_df3[columns_to_encode].apply(label_encode_column)\n",
    "test_df3[columns_to_encode] = test_df3[columns_to_encode].apply(label_encode_column)"
   ]
  },
  {
   "cell_type": "code",
   "execution_count": 198,
   "id": "d89ff0cf-f004-4379-9f41-db9fa19eab21",
   "metadata": {
    "tags": []
   },
   "outputs": [],
   "source": [
    "mlb = MultiLabelBinarizer()\n",
    "df = train_df3\n",
    "\n",
    "# MultiLabelBinarizer를 사용하여 job_tagID를 이진 벡터로 변환\n",
    "mlb = MultiLabelBinarizer()\n",
    "train_job_tagID_encoded = pd.DataFrame(mlb.fit_transform(train_df3['job_tagID']), columns=mlb.classes_, index=train_df3.index)\n",
    "train_user_tagID_encoded = pd.DataFrame(mlb.fit_transform(train_df3['user_tagID']), columns=mlb.classes_, index=train_df3.index)\n",
    "# 기존의 job_tagID 열 제거\n",
    "train1 = df.drop(['job_tagID','user_tagID'], axis=1)\n",
    "train2 = df.drop(['job_tagID','user_tagID'], axis=1)\n",
    "# 인코딩된 열 추가\n",
    "train1 = pd.concat([train1, train_job_tagID_encoded], axis=1)\n",
    "train2 = pd.concat([train2, train_user_tagID_encoded], axis=1)\n",
    "# 필요하다면 NaN 값을 다른 값으로 대체하거나 처리할 수 있습니다.\n",
    "train2 = train2.fillna(0)"
   ]
  },
  {
   "cell_type": "code",
   "execution_count": 204,
   "id": "ae2ab16e-b1e9-451d-b695-bf7cc90c3041",
   "metadata": {
    "tags": []
   },
   "outputs": [],
   "source": [
    "mlb = MultiLabelBinarizer()\n",
    "df = test_df3\n",
    "\n",
    "# MultiLabelBinarizer를 사용하여 job_tagID를 이진 벡터로 변환\n",
    "mlb = MultiLabelBinarizer()\n",
    "test_job_tagID_encoded = pd.DataFrame(mlb.fit_transform(test_df3['job_tagID']), columns=mlb.classes_, index=test_df3.index)\n",
    "test_user_tagID_encoded = pd.DataFrame(mlb.fit_transform(test_df3['user_tagID']), columns=mlb.classes_, index=test_df3.index)\n",
    "# 기존의 job_tagID 열 제거\n",
    "test1 = df.drop(['job_tagID','user_tagID'], axis=1)\n",
    "test2 = df.drop(['job_tagID','user_tagID'], axis=1)\n",
    "# 인코딩된 열 추가\n",
    "test1 = pd.concat([test1, test_job_tagID_encoded], axis=1)\n",
    "test2 = pd.concat([test2, test_user_tagID_encoded], axis=1)\n",
    "# 필요하다면 NaN 값을 다른 값으로 대체하거나 처리할 수 있습니다.\n",
    "test2 = test2.fillna(0)\n",
    "\n",
    "train2.columns = train2.columns.astype(str)\n",
    "test2.columns = test2.columns.astype(str)\n"
   ]
  },
  {
   "cell_type": "code",
   "execution_count": 205,
   "id": "74af4658-992a-4e25-acf0-191c070d7513",
   "metadata": {
    "tags": []
   },
   "outputs": [
    {
     "data": {
      "text/plain": [
       "((4800, 347), (1200, 347), (4800,), (1200,))"
      ]
     },
     "execution_count": 205,
     "metadata": {},
     "output_type": "execute_result"
    }
   ],
   "source": [
    "from sklearn.model_selection import train_test_split\n",
    "from sklearn.linear_model import LogisticRegression\n",
    "from sklearn.metrics import accuracy_score\n",
    "from catboost import CatBoostClassifier, Pool, cv\n",
    "X = train2.drop(['userID','jobID',\"applied\"],axis=1)\n",
    "y = train2['applied']\n",
    "\n",
    "X_train, X_test, y_train, y_test = train_test_split(X, y, test_size=0.2, random_state=42)\n",
    "X_train.shape, X_test.shape, y_train.shape, y_test.shape"
   ]
  },
  {
   "cell_type": "code",
   "execution_count": 206,
   "id": "3aa92356-2d66-4acc-925d-91f18c54dc81",
   "metadata": {
    "tags": []
   },
   "outputs": [
    {
     "name": "stderr",
     "output_type": "stream",
     "text": [
      "/Users/seunghyun/anaconda3/lib/python3.11/site-packages/sklearn/linear_model/_logistic.py:460: ConvergenceWarning: lbfgs failed to converge (status=1):\n",
      "STOP: TOTAL NO. of ITERATIONS REACHED LIMIT.\n",
      "\n",
      "Increase the number of iterations (max_iter) or scale the data as shown in:\n",
      "    https://scikit-learn.org/stable/modules/preprocessing.html\n",
      "Please also refer to the documentation for alternative solver options:\n",
      "    https://scikit-learn.org/stable/modules/linear_model.html#logistic-regression\n",
      "  n_iter_i = _check_optimize_result(\n"
     ]
    },
    {
     "name": "stdout",
     "output_type": "stream",
     "text": [
      "Logistic Regression: Accuracy = 0.8633\n",
      "Random Forest: Accuracy = 0.8008\n",
      "CatBoost: Accuracy = 0.8650\n"
     ]
    }
   ],
   "source": [
    "# !pip install xgboost\n",
    "# 여러 모델 정의\n",
    "from sklearn.model_selection import train_test_split\n",
    "from sklearn.metrics import accuracy_score\n",
    "from sklearn.ensemble import RandomForestClassifier\n",
    "from catboost import CatBoostClassifier\n",
    "from sklearn.linear_model import LogisticRegression\n",
    "\n",
    "models = [\n",
    "    ('Logistic Regression', LogisticRegression()),\n",
    "    ('Random Forest', RandomForestClassifier()),\n",
    "    ('CatBoost', CatBoostClassifier(verbose=0))  # verbose=0은 출력을 감춥니다.\n",
    "]\n",
    "# 각 모델에 대해 훈련 및 예측 수행\n",
    "for model_name, model in models:\n",
    "    model.fit(X_train, y_train)\n",
    "    y_pred = model.predict(X_test)\n",
    "    \n",
    "    # 정확도 계산\n",
    "    accuracy = accuracy_score(y_test, y_pred)\n",
    "    print(f'{model_name}: Accuracy = {accuracy:.4f}')"
   ]
  },
  {
   "cell_type": "code",
   "execution_count": 209,
   "id": "df2ba98f-9186-439d-92e8-27f5151a211e",
   "metadata": {
    "tags": []
   },
   "outputs": [],
   "source": [
    "test_job['applied'] = model.predict(test2.drop(['userID','jobID'],axis=1))"
   ]
  },
  {
   "cell_type": "code",
   "execution_count": 215,
   "id": "d7040603-f021-4595-9802-21ae67edba00",
   "metadata": {
    "tags": []
   },
   "outputs": [],
   "source": [
    "test_job.to_csv(\"sub.csv\",index=False)"
   ]
  },
  {
   "cell_type": "code",
   "execution_count": null,
   "id": "4af30bf9-4567-4de2-8151-4757c143809d",
   "metadata": {},
   "outputs": [],
   "source": []
  }
 ],
 "metadata": {
  "kernelspec": {
   "display_name": "Python 3 (ipykernel)",
   "language": "python",
   "name": "python3"
  },
  "language_info": {
   "codemirror_mode": {
    "name": "ipython",
    "version": 3
   },
   "file_extension": ".py",
   "mimetype": "text/x-python",
   "name": "python",
   "nbconvert_exporter": "python",
   "pygments_lexer": "ipython3",
   "version": "3.11.5"
  }
 },
 "nbformat": 4,
 "nbformat_minor": 5
}
